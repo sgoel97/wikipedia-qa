{
 "cells": [
  {
   "cell_type": "code",
   "execution_count": 9,
   "metadata": {},
   "outputs": [],
   "source": [
    "from llama_index import (\n",
    "    download_loader,\n",
    "    VectorStoreIndex,\n",
    "    StorageContext,\n",
    "    load_index_from_storage,\n",
    "    ServiceContext,\n",
    ")\n",
    "import os"
   ]
  },
  {
   "cell_type": "code",
   "execution_count": 10,
   "metadata": {},
   "outputs": [],
   "source": [
    "PERSIST_DIR = \"./server/storage\""
   ]
  },
  {
   "cell_type": "code",
   "execution_count": 11,
   "metadata": {},
   "outputs": [],
   "source": [
    "service_context = ServiceContext.from_defaults(chunk_size=1000)"
   ]
  },
  {
   "cell_type": "code",
   "execution_count": 12,
   "metadata": {},
   "outputs": [],
   "source": [
    "if not os.path.exists(PERSIST_DIR):\n",
    "    WikipediaReader = download_loader(\"WikipediaReader\")\n",
    "    loader = WikipediaReader()\n",
    "    documents = loader.load_data(\n",
    "        pages=[\"Berlin\", \"Rome\", \"Tokyo\", \"Canberra\", \"Santiago\"]\n",
    "    )\n",
    "    index = VectorStoreIndex.from_documents(documents, service_context=service_context)\n",
    "    index.storage_context.persist(persist_dir=PERSIST_DIR)\n",
    "else:\n",
    "    storage_context = StorageContext.from_defaults(persist_dir=PERSIST_DIR)\n",
    "    index = load_index_from_storage(storage_context=storage_context)"
   ]
  },
  {
   "cell_type": "code",
   "execution_count": 4,
   "metadata": {},
   "outputs": [],
   "source": [
    "query_engine = index.as_query_engine()"
   ]
  },
  {
   "cell_type": "code",
   "execution_count": 5,
   "metadata": {},
   "outputs": [],
   "source": [
    "response = query_engine.query(\"where is greece?\")"
   ]
  },
  {
   "cell_type": "code",
   "execution_count": 7,
   "metadata": {},
   "outputs": [
    {
     "data": {
      "text/plain": [
       "\"Tokyo (; Japanese: 東京, Tōkyō, [toːkʲoː] ), officially the Tokyo Metropolis (東京都, Tōkyō-to), is the capital of Japan and the most populous city in the world with a population of over 14 million residents as of 2023. The Tokyo metropolitan area, which includes Tokyo and nearby prefectures, is the world's most-populous metropolitan area with 40.8 million residents as of 2023, and is the second-largest metropolitan economy in the world after New York City, with a 2023 gross metropolitan product estimated at US$2 trillion.\\nLocated at the head of Tokyo Bay, Tokyo is part of the Kantō region on the central coast of Honshu, Japan's largest island. Tokyo serves as Japan's economic center and the seat of both the Japanese government and the Emperor of Japan. The Tokyo Metropolitan Government administers Tokyo's central 23 special wards (which formerly made up Tokyo City), various commuter towns and suburbs in its western area, and two outlying island chains known as the Tokyo Islands. Despite most of the world knowing Tokyo as a city, since 1943 its governing structure has been more akin to a prefecture, with an accompanying Governor and Assembly taking precedence over the smaller municipal governments which make up the metropolis. \\nPrior to the 17th century, Tokyo was predominantly a fishing village and was named Edo. In 1603, however, the city ascended to political prominence after being named the seat of the Tokugawa shogunate. By the mid-18th century, Edo emerged as one of the world's most-populous cities with a population of over one million people. Following the Meiji Restoration in 1868, the imperial capital in Kyoto was moved to Edo, and the city was renamed Tokyo (lit.\\u2009'Eastern Capital'). In 1923, Tokyo was damaged substantially by the Great Kantō earthquake, and the city was later decimated by allied bombing raids during World War II in retaliation for Japan's attack on Pearl Harbor. Beginning in the mid-20th century, Tokyo underwent rapid reconstruction and expansion that contributed to the era's so-called Japanese economic miracle in which Japan's economy propelled to the second-largest in the world behind the United States. Tokyo is categorized as an Alpha+ city by the Globalization and World Cities Research Network and is part of an industrial region that includes Yokohama, Kawasaki, and Chiba. As of 2023, the city is home to 29 of the world's largest 500 companies listed in the annual Fortune Global 500.In 2020, Tokyo ranked fourth on the Global Financial Centres Index behind New York City, London, and Shanghai. The city is home to the world's tallest tower, Tokyo Skytree, and the world's largest underground floodwater diversion facility, the Metropolitan Area Outer Underground Discharge Channel in Kasukabe, Saitama, a Tokyo suburb. The Tokyo Metro Ginza Line, which opened in 1927, is the oldest underground metro line in East Asia. Tokyo is recognized as one of the world's most livable cities; it was ranked fourth in the world in Global Livability Ranking, published in 2021.In the 20th and 21st centuries, Tokyo has hosted several major international events, including the 1964 Summer Olympics and 1964 Summer Paralympics, the 2020 Summer Olympics, and three G7 summits in 1979, 1986, and 1993. Tokyo is an international research and development hub and an academic center with several major universities, including the University of Tokyo. Tokyo Station is the central hub for the Shinkansen, Japan's high-speed railway network, and Shinjuku Station in Tokyo is the world's busiest train station. Notable special wards in Tokyo include Chiyoda, the site of the National Diet Building and the Tokyo Imperial Palace, Shinjuku, the city's administrative center, and Shibuya, a commercial, cultural, and business hub in the city.\""
      ]
     },
     "execution_count": 7,
     "metadata": {},
     "output_type": "execute_result"
    }
   ],
   "source": [
    "response.source_nodes[0].text"
   ]
  },
  {
   "cell_type": "code",
   "execution_count": null,
   "metadata": {},
   "outputs": [],
   "source": []
  }
 ],
 "metadata": {
  "kernelspec": {
   "display_name": "base",
   "language": "python",
   "name": "python3"
  },
  "language_info": {
   "codemirror_mode": {
    "name": "ipython",
    "version": 3
   },
   "file_extension": ".py",
   "mimetype": "text/x-python",
   "name": "python",
   "nbconvert_exporter": "python",
   "pygments_lexer": "ipython3",
   "version": "3.11.5"
  }
 },
 "nbformat": 4,
 "nbformat_minor": 2
}
